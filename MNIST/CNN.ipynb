{
 "cells": [
  {
   "cell_type": "code",
   "execution_count": 140,
   "metadata": {},
   "outputs": [],
   "source": [
    "import numpy as np\n",
    "import tensorflow as tf\n",
    "from tensorflow.keras import layers as ly\n",
    "import pandas as pd\n",
    "from tensorflow.keras.utils import to_categorical \n",
    "import matplotlib.pyplot as plt"
   ]
  },
  {
   "cell_type": "code",
   "execution_count": 2,
   "metadata": {},
   "outputs": [],
   "source": [
    "data = tf.keras.datasets.mnist"
   ]
  },
  {
   "cell_type": "code",
   "execution_count": 87,
   "metadata": {},
   "outputs": [],
   "source": [
    "(train_images,train_out), (test_images,test_out) = data.load_data()\n",
    "# print (train_images.shape[2])"
   ]
  },
  {
   "cell_type": "code",
   "execution_count": 88,
   "metadata": {
    "scrolled": true
   },
   "outputs": [
    {
     "name": "stdout",
     "output_type": "stream",
     "text": [
      "(60000, 28, 28, 1)\n",
      "[0. 0. 0. 0. 0. 1. 0. 0. 0. 0.]\n"
     ]
    }
   ],
   "source": [
    "(train_images,test_images) = train_images/255.0 , test_images/255.0\n",
    "train_images = train_images.reshape(train_images.shape[0],train_images.shape[1],train_images.shape[2],1)\n",
    "test_images = test_images.reshape(test_images.shape[0], test_images.shape[1],test_images.shape[2],1)\n",
    "train_out, test_out = to_categorical(train_out), to_categorical(test_out)\n"
   ]
  },
  {
   "cell_type": "code",
   "execution_count": 160,
   "metadata": {},
   "outputs": [
    {
     "name": "stdout",
     "output_type": "stream",
     "text": [
      "_________________________________________________________________\n",
      "Layer (type)                 Output Shape              Param #   \n",
      "=================================================================\n",
      "conv2d_4 (Conv2D)            (None, 28, 28, 32)        832       \n",
      "_________________________________________________________________\n",
      "dropout_2 (Dropout)          (None, 28, 28, 32)        0         \n",
      "_________________________________________________________________\n",
      "max_pooling2d_4 (MaxPooling2 (None, 14, 14, 32)        0         \n",
      "_________________________________________________________________\n",
      "conv2d_5 (Conv2D)            (None, 14, 14, 32)        25632     \n",
      "_________________________________________________________________\n",
      "dropout_3 (Dropout)          (None, 14, 14, 32)        0         \n",
      "_________________________________________________________________\n",
      "max_pooling2d_5 (MaxPooling2 (None, 7, 7, 32)          0         \n",
      "_________________________________________________________________\n",
      "flatten_2 (Flatten)          (None, 1568)              0         \n",
      "_________________________________________________________________\n",
      "dense_4 (Dense)              (None, 1568)              2460192   \n",
      "_________________________________________________________________\n",
      "dense_5 (Dense)              (None, 10)                15690     \n",
      "=================================================================\n",
      "Total params: 2,502,346\n",
      "Trainable params: 2,502,346\n",
      "Non-trainable params: 0\n",
      "_________________________________________________________________\n"
     ]
    }
   ],
   "source": [
    "model = tf.keras.models.Sequential()\n",
    "model.add(ly.Conv2D(32,kernel_size=(5,5),strides=1,activation='relu',padding='same',input_shape=(28,28,1)))\n",
    "model.add(ly.Dropout(0.2))\n",
    "model.add(ly.MaxPool2D(pool_size=(2,2),strides=2,padding='same'))\n",
    "model.add(ly.Conv2D(32,kernel_size=(5,5),strides=1,padding='same',activation='relu'))\n",
    "model.add(ly.Dropout(0.2))\n",
    "model.add(ly.MaxPool2D(pool_size=(2,2),strides=2,padding='same'))\n",
    "model.add(ly.Flatten())\n",
    "model.add(ly.Dense(1568,activation='relu'))\n",
    "model.add(ly.Dense(10,activation=tf.nn.softmax))\n",
    "\n",
    "model.compile(optimizer='adam',\n",
    "              loss='categorical_crossentropy',\n",
    "              metrics=['accuracy'])\n",
    "model.summary()\n",
    "          "
   ]
  },
  {
   "cell_type": "code",
   "execution_count": 161,
   "metadata": {
    "scrolled": false
   },
   "outputs": [
    {
     "name": "stdout",
     "output_type": "stream",
     "text": [
      "Train on 48000 samples, validate on 12000 samples\n",
      "Epoch 1/10\n",
      "48000/48000 [==============================] - 157s 3ms/step - loss: 0.1618 - acc: 0.9504 - val_loss: 0.0659 - val_acc: 0.9808\n",
      "Epoch 2/10\n",
      "48000/48000 [==============================] - 152s 3ms/step - loss: 0.0494 - acc: 0.9847 - val_loss: 0.0450 - val_acc: 0.9874\n",
      "Epoch 3/10\n",
      "48000/48000 [==============================] - 153s 3ms/step - loss: 0.0340 - acc: 0.9895 - val_loss: 0.0383 - val_acc: 0.9897\n",
      "Epoch 4/10\n",
      "48000/48000 [==============================] - 152s 3ms/step - loss: 0.0245 - acc: 0.9921 - val_loss: 0.0338 - val_acc: 0.9912\n",
      "Epoch 5/10\n",
      "48000/48000 [==============================] - 152s 3ms/step - loss: 0.0203 - acc: 0.9932 - val_loss: 0.0315 - val_acc: 0.9907\n",
      "Epoch 6/10\n",
      "48000/48000 [==============================] - 152s 3ms/step - loss: 0.0156 - acc: 0.9949 - val_loss: 0.0330 - val_acc: 0.9894\n",
      "Epoch 7/10\n",
      "48000/48000 [==============================] - 152s 3ms/step - loss: 0.0120 - acc: 0.9960 - val_loss: 0.0352 - val_acc: 0.9889\n",
      "Epoch 8/10\n",
      "48000/48000 [==============================] - 152s 3ms/step - loss: 0.0125 - acc: 0.9957 - val_loss: 0.0305 - val_acc: 0.9902\n",
      "Epoch 9/10\n",
      "48000/48000 [==============================] - 152s 3ms/step - loss: 0.0117 - acc: 0.9958 - val_loss: 0.0329 - val_acc: 0.9910\n",
      "Epoch 10/10\n",
      "48000/48000 [==============================] - 154s 3ms/step - loss: 0.0097 - acc: 0.9967 - val_loss: 0.0295 - val_acc: 0.9911\n"
     ]
    },
    {
     "data": {
      "text/plain": [
       "<tensorflow.python.keras.callbacks.History at 0x49b3c5f8>"
      ]
     },
     "execution_count": 161,
     "metadata": {},
     "output_type": "execute_result"
    }
   ],
   "source": [
    "model.fit(train_images,train_out,validation_split=0.2,epochs=10,batch_size=128)"
   ]
  },
  {
   "cell_type": "code",
   "execution_count": 162,
   "metadata": {},
   "outputs": [
    {
     "name": "stdout",
     "output_type": "stream",
     "text": [
      "10000/10000 [==============================] - 9s 924us/step\n"
     ]
    },
    {
     "data": {
      "text/plain": [
       "[0.025922910743330432, 0.9916]"
      ]
     },
     "execution_count": 162,
     "metadata": {},
     "output_type": "execute_result"
    }
   ],
   "source": [
    "model.evaluate(test_images,test_out)"
   ]
  },
  {
   "cell_type": "code",
   "execution_count": 163,
   "metadata": {},
   "outputs": [],
   "source": [
    "model.save('mnistCNN.h5')"
   ]
  },
  {
   "cell_type": "code",
   "execution_count": 164,
   "metadata": {},
   "outputs": [],
   "source": [
    "from PIL import Image"
   ]
  },
  {
   "cell_type": "code",
   "execution_count": 169,
   "metadata": {},
   "outputs": [
    {
     "data": {
      "image/png": "[encoded data removed]",
      "text/plain": [
       "<Figure size 432x288 with 1 Axes>"
      ]
     },
     "metadata": {
      "needs_background": "light"
     },
     "output_type": "display_data"
    }
   ],
   "source": [
    "img = Image.open('test4.png').convert('L')\n",
    "img = img.resize((28,28))\n",
    "# img1= plt.imread('test2.jpg')\n",
    "plt.imshow(img1)\n",
    "im2arr = np.array(img)\n",
    "\n",
    "im2arr = im2arr/255.0\n",
    "plt.imshow(im2arr)\n",
    "im2arr = im2arr.reshape(1,28,28,1)"
   ]
  },
  {
   "cell_type": "code",
   "execution_count": 170,
   "metadata": {},
   "outputs": [
    {
     "data": {
      "text/plain": [
       "array([[1.1480301e-02, 1.1264405e-03, 1.6554138e-01, 7.8289711e-01,\n",
       "        2.4839707e-03, 4.1014533e-03, 2.4264875e-04, 2.5631995e-03,\n",
       "        1.1170991e-02, 1.8392669e-02]], dtype=float32)"
      ]
     },
     "execution_count": 170,
     "metadata": {},
     "output_type": "execute_result"
    }
   ],
   "source": [
    "model.predict(im2arr)"
   ]
  },
  {
   "cell_type": "code",
   "execution_count": null,
   "metadata": {},
   "outputs": [],
   "source": []
  }
 ],
 "metadata": {
  "kernelspec": {
   "display_name": "Python 3",
   "language": "python",
   "name": "python3"
  },
  "language_info": {
   "codemirror_mode": {
    "name": "ipython",
    "version": 3
   },
   "file_extension": ".py",
   "mimetype": "text/x-python",
   "name": "python",
   "nbconvert_exporter": "python",
   "pygments_lexer": "ipython3",
   "version": "3.6.8"
  }
 },
 "nbformat": 4,
 "nbformat_minor": 2
}

{
 "cells": [
  {
   "cell_type": "code",
   "execution_count": 68,
   "metadata": {},
   "outputs": [],
   "source": [
    "import numpy as np\n",
    "import tensorflow as tf\n",
    "from tensorflow.keras import layers as ly\n",
    "import pandas as pd\n",
    "from tensorflow.keras.utils import to_categorical "
   ]
  },
  {
   "cell_type": "code",
   "execution_count": 134,
   "metadata": {},
   "outputs": [],
   "source": [
    "data = tf.keras.datasets.mnist"
   ]
  },
  {
   "cell_type": "code",
   "execution_count": 175,
   "metadata": {},
   "outputs": [],
   "source": [
    "(train_images,train_out), (test_images,test_out) = data.load_data()\n",
    "# print (train_images.shape[2])"
   ]
  },
  {
   "cell_type": "code",
   "execution_count": 176,
   "metadata": {
    "scrolled": true
   },
   "outputs": [
    {
     "name": "stdout",
     "output_type": "stream",
     "text": [
      "(60000, 10)\n",
      "[0. 0. 0. 0. 0. 1. 0. 0. 0. 0.]\n"
     ]
    }
   ],
   "source": [
    "(train_images,test_images) = train_images/255.0 , test_images/255.0\n",
    "train_images = train_images.reshape(train_images.shape[0],train_images.shape[1],train_images.shape[2],1)\n",
    "test_images = test_images.reshape(test_images.shape[0], test_images.shape[1],test_images.shape[2],1)\n",
    "train_out, test_out = to_categorical(train_out), to_categorical(test_out)\n",
    "print (train_out.shape)\n",
    "print(train_out[0])"
   ]
  },
  {
   "cell_type": "code",
   "execution_count": 170,
   "metadata": {},
   "outputs": [
    {
     "name": "stdout",
     "output_type": "stream",
     "text": [
      "_________________________________________________________________\n",
      "Layer (type)                 Output Shape              Param #   \n",
      "=================================================================\n",
      "conv2d_90 (Conv2D)           (None, 28, 28, 32)        832       \n",
      "_________________________________________________________________\n",
      "max_pooling2d_71 (MaxPooling (None, 14, 14, 32)        0         \n",
      "_________________________________________________________________\n",
      "conv2d_91 (Conv2D)           (None, 14, 14, 32)        25632     \n",
      "_________________________________________________________________\n",
      "max_pooling2d_72 (MaxPooling (None, 7, 7, 32)          0         \n",
      "_________________________________________________________________\n",
      "flatten_6 (Flatten)          (None, 1568)              0         \n",
      "_________________________________________________________________\n",
      "dense_40 (Dense)             (None, 128)               200832    \n",
      "_________________________________________________________________\n",
      "dense_41 (Dense)             (None, 10)                1290      \n",
      "=================================================================\n",
      "Total params: 228,586\n",
      "Trainable params: 228,586\n",
      "Non-trainable params: 0\n",
      "_________________________________________________________________\n"
     ]
    }
   ],
   "source": [
    "model = tf.keras.models.Sequential()\n",
    "model.add(ly.Conv2D(32,kernel_size=(5,5),strides=1,activation='relu',padding='same',input_shape=(28,28,1)))\n",
    "model.add(ly.MaxPool2D(pool_size=(2,2),strides=2,padding='same'))\n",
    "model.add(ly.Conv2D(32,kernel_size=(5,5),strides=1,padding='same',activation='relu'))\n",
    "model.add(ly.MaxPool2D(pool_size=(2,2),strides=2,padding='same'))\n",
    "model.add(ly.Flatten())\n",
    "model.add(ly.Dense(128,activation='relu'))\n",
    "model.add(ly.Dense(10,activation=tf.nn.softmax))\n",
    "\n",
    "model.compile(optimizer='adam',\n",
    "              loss='categorical_crossentropy',\n",
    "              metrics=['accuracy'])\n",
    "model.summary()\n",
    "          "
   ]
  },
  {
   "cell_type": "code",
   "execution_count": 171,
   "metadata": {},
   "outputs": [
    {
     "name": "stdout",
     "output_type": "stream",
     "text": [
      "Train on 48000 samples, validate on 12000 samples\n",
      "Epoch 1/10\n",
      "48000/48000 [==============================] - 121s 3ms/step - loss: 0.1449 - acc: 0.9560 - val_loss: 0.0552 - val_acc: 0.9835\n",
      "Epoch 2/10\n",
      "48000/48000 [==============================] - 122s 3ms/step - loss: 0.0474 - acc: 0.9854 - val_loss: 0.0409 - val_acc: 0.9868\n",
      "Epoch 3/10\n",
      "48000/48000 [==============================] - 124s 3ms/step - loss: 0.0307 - acc: 0.9902 - val_loss: 0.0443 - val_acc: 0.9864\n",
      "Epoch 4/10\n",
      "48000/48000 [==============================] - 126s 3ms/step - loss: 0.0219 - acc: 0.9930 - val_loss: 0.0517 - val_acc: 0.9847\n",
      "Epoch 5/10\n",
      "48000/48000 [==============================] - 128s 3ms/step - loss: 0.0185 - acc: 0.9938 - val_loss: 0.0477 - val_acc: 0.9872\n",
      "Epoch 6/10\n",
      "48000/48000 [==============================] - 125s 3ms/step - loss: 0.0135 - acc: 0.9952 - val_loss: 0.0373 - val_acc: 0.9898\n",
      "Epoch 7/10\n",
      "48000/48000 [==============================] - 126s 3ms/step - loss: 0.0104 - acc: 0.9964 - val_loss: 0.0403 - val_acc: 0.9895\n",
      "Epoch 8/10\n",
      "48000/48000 [==============================] - 124s 3ms/step - loss: 0.0094 - acc: 0.9968 - val_loss: 0.0396 - val_acc: 0.9908\n",
      "Epoch 9/10\n",
      "48000/48000 [==============================] - 122s 3ms/step - loss: 0.0087 - acc: 0.9972 - val_loss: 0.0442 - val_acc: 0.9898\n",
      "Epoch 10/10\n",
      "48000/48000 [==============================] - 129s 3ms/step - loss: 0.0077 - acc: 0.9975 - val_loss: 0.0539 - val_acc: 0.9887\n"
     ]
    },
    {
     "data": {
      "text/plain": [
       "<tensorflow.python.keras.callbacks.History at 0x37145e10>"
      ]
     },
     "execution_count": 171,
     "metadata": {},
     "output_type": "execute_result"
    }
   ],
   "source": [
    "model.fit(train_images,train_out,validation_split=0.2,epochs=10)"
   ]
  },
  {
   "cell_type": "code",
   "execution_count": 172,
   "metadata": {},
   "outputs": [
    {
     "name": "stdout",
     "output_type": "stream",
     "text": [
      "10000/10000 [==============================] - 8s 815us/step\n"
     ]
    },
    {
     "data": {
      "text/plain": [
       "[0.03871295355005132, 0.9903]"
      ]
     },
     "execution_count": 172,
     "metadata": {},
     "output_type": "execute_result"
    }
   ],
   "source": [
    "model.evaluate(test_images,test_out)"
   ]
  },
  {
   "cell_type": "code",
   "execution_count": null,
   "metadata": {},
   "outputs": [],
   "source": []
  }
 ],
 "metadata": {
  "kernelspec": {
   "display_name": "Python 3",
   "language": "python",
   "name": "python3"
  },
  "language_info": {
   "codemirror_mode": {
    "name": "ipython",
    "version": 3
   },
   "file_extension": ".py",
   "mimetype": "text/x-python",
   "name": "python",
   "nbconvert_exporter": "python",
   "pygments_lexer": "ipython3",
   "version": "3.6.8"
  }
 },
 "nbformat": 4,
 "nbformat_minor": 2
}

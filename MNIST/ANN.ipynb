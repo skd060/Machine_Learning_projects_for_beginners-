{
 "cells": [
  {
   "cell_type": "code",
   "execution_count": 50,
   "metadata": {},
   "outputs": [],
   "source": [
    "import numpy as np\n",
    "import tensorflow as tf\n",
    "from tensorflow.keras import layers as ly\n",
    "import pandas as pd"
   ]
  },
  {
   "cell_type": "code",
   "execution_count": 51,
   "metadata": {},
   "outputs": [],
   "source": [
    "data = tf.keras.datasets.mnist"
   ]
  },
  {
   "cell_type": "code",
   "execution_count": 52,
   "metadata": {},
   "outputs": [],
   "source": [
    "(train_images,train_out), (test_images,test_out) = data.load_data()"
   ]
  },
  {
   "cell_type": "code",
   "execution_count": 53,
   "metadata": {},
   "outputs": [],
   "source": [
    "(train_images,test_images) = train_images/255.0 , test_images/255.0\n"
   ]
  },
  {
   "cell_type": "code",
   "execution_count": 54,
   "metadata": {
    "scrolled": false
   },
   "outputs": [
    {
     "name": "stdout",
     "output_type": "stream",
     "text": [
      "[[0 0 0 ... 0 0 0]\n",
      " [1 0 0 ... 0 0 0]\n",
      " [0 0 0 ... 0 0 0]\n",
      " ...\n",
      " [0 0 0 ... 0 0 0]\n",
      " [0 0 0 ... 0 0 0]\n",
      " [0 0 0 ... 0 1 0]]\n"
     ]
    }
   ],
   "source": [
    "train_out, test_out = pd.get_dummies(train_out).values,pd.get_dummies(test_out).values\n",
    "print (train_out)"
   ]
  },
  {
   "cell_type": "code",
   "execution_count": 92,
   "metadata": {
    "scrolled": false
   },
   "outputs": [
    {
     "name": "stdout",
     "output_type": "stream",
     "text": [
      "_________________________________________________________________\n",
      "Layer (type)                 Output Shape              Param #   \n",
      "=================================================================\n",
      "flatten_26 (Flatten)         (None, 784)               0         \n",
      "_________________________________________________________________\n",
      "dense_78 (Dense)             (None, 512)               401920    \n",
      "_________________________________________________________________\n",
      "dropout_25 (Dropout)         (None, 512)               0         \n",
      "_________________________________________________________________\n",
      "dense_79 (Dense)             (None, 256)               131328    \n",
      "_________________________________________________________________\n",
      "dropout_26 (Dropout)         (None, 256)               0         \n",
      "_________________________________________________________________\n",
      "dense_80 (Dense)             (None, 64)                16448     \n",
      "_________________________________________________________________\n",
      "dense_81 (Dense)             (None, 10)                650       \n",
      "=================================================================\n",
      "Total params: 550,346\n",
      "Trainable params: 550,346\n",
      "Non-trainable params: 0\n",
      "_________________________________________________________________\n"
     ]
    }
   ],
   "source": [
    "model = tf.keras.models.Sequential()\n",
    "model.add(ly.Flatten(input_shape=(28,28)))\n",
    "model.add(ly.Dense(512,activation='relu'))\n",
    "model.add(ly.Dropout(0.2))\n",
    "model.add(ly.Dense(256,activation='relu'))\n",
    "model.add(ly.Dropout(0.2))\n",
    "model.add(ly.Dense(64,activation='relu'))\n",
    "# model.add(ly.Dropout(0.1))\n",
    "model.add(ly.Dense(10,activation=tf.nn.softmax))\n",
    "model.compile(optimizer='adam',\n",
    "              loss='categorical_crossentropy',\n",
    "              metrics=['accuracy'])\n",
    "model.summary()\n",
    "          "
   ]
  },
  {
   "cell_type": "code",
   "execution_count": 93,
   "metadata": {
    "scrolled": false
   },
   "outputs": [
    {
     "name": "stdout",
     "output_type": "stream",
     "text": [
      "Train on 48000 samples, validate on 12000 samples\n",
      "Epoch 1/50\n",
      "48000/48000 [==============================] - 9s 186us/step - loss: 0.3140 - acc: 0.9036 - val_loss: 0.1259 - val_acc: 0.9616\n",
      "Epoch 2/50\n",
      "48000/48000 [==============================] - 8s 167us/step - loss: 0.1206 - acc: 0.9633 - val_loss: 0.1059 - val_acc: 0.9678\n",
      "Epoch 3/50\n",
      "48000/48000 [==============================] - 8s 158us/step - loss: 0.0881 - acc: 0.9725 - val_loss: 0.0800 - val_acc: 0.9757\n",
      "Epoch 4/50\n",
      "48000/48000 [==============================] - 8s 160us/step - loss: 0.0685 - acc: 0.9792 - val_loss: 0.0819 - val_acc: 0.9758\n",
      "Epoch 5/50\n",
      "48000/48000 [==============================] - 8s 161us/step - loss: 0.0527 - acc: 0.9835 - val_loss: 0.0830 - val_acc: 0.9761\n",
      "Epoch 6/50\n",
      "48000/48000 [==============================] - 8s 161us/step - loss: 0.0472 - acc: 0.9847 - val_loss: 0.0813 - val_acc: 0.9772\n",
      "Epoch 7/50\n",
      "48000/48000 [==============================] - 8s 169us/step - loss: 0.0426 - acc: 0.9858 - val_loss: 0.0793 - val_acc: 0.9780\n",
      "Epoch 8/50\n",
      "48000/48000 [==============================] - 8s 172us/step - loss: 0.0372 - acc: 0.9878 - val_loss: 0.0773 - val_acc: 0.9787\n",
      "Epoch 9/50\n",
      "48000/48000 [==============================] - 8s 168us/step - loss: 0.0345 - acc: 0.9887 - val_loss: 0.0765 - val_acc: 0.97970.9\n",
      "Epoch 10/50\n",
      "48000/48000 [==============================] - 8s 176us/step - loss: 0.0288 - acc: 0.9904 - val_loss: 0.0867 - val_acc: 0.9791\n",
      "Epoch 11/50\n",
      "48000/48000 [==============================] - 8s 159us/step - loss: 0.0271 - acc: 0.9910 - val_loss: 0.0846 - val_acc: 0.9796\n",
      "Epoch 12/50\n",
      "48000/48000 [==============================] - 8s 170us/step - loss: 0.0261 - acc: 0.9912 - val_loss: 0.0900 - val_acc: 0.9780\n",
      "Epoch 13/50\n",
      "48000/48000 [==============================] - 8s 163us/step - loss: 0.0257 - acc: 0.9911 - val_loss: 0.0906 - val_acc: 0.9786\n",
      "Epoch 14/50\n",
      "48000/48000 [==============================] - 9s 178us/step - loss: 0.0246 - acc: 0.9915 - val_loss: 0.0817 - val_acc: 0.9794\n",
      "Epoch 15/50\n",
      "48000/48000 [==============================] - 8s 171us/step - loss: 0.0196 - acc: 0.9935 - val_loss: 0.0875 - val_acc: 0.9793\n",
      "Epoch 16/50\n",
      "48000/48000 [==============================] - 9s 188us/step - loss: 0.0225 - acc: 0.9926 - val_loss: 0.0962 - val_acc: 0.9789\n",
      "Epoch 17/50\n",
      "48000/48000 [==============================] - 11s 231us/step - loss: 0.0204 - acc: 0.9935 - val_loss: 0.0872 - val_acc: 0.9809\n",
      "Epoch 18/50\n",
      "48000/48000 [==============================] - 9s 188us/step - loss: 0.0185 - acc: 0.9938 - val_loss: 0.0996 - val_acc: 0.9796\n",
      "Epoch 19/50\n",
      "48000/48000 [==============================] - 9s 184us/step - loss: 0.0184 - acc: 0.9942 - val_loss: 0.0900 - val_acc: 0.9798\n",
      "Epoch 20/50\n",
      "48000/48000 [==============================] - 9s 198us/step - loss: 0.0173 - acc: 0.9944 - val_loss: 0.0963 - val_acc: 0.9806\n",
      "Epoch 21/50\n",
      "48000/48000 [==============================] - 10s 201us/step - loss: 0.0175 - acc: 0.9942 - val_loss: 0.0928 - val_acc: 0.9793\n",
      "Epoch 22/50\n",
      "48000/48000 [==============================] - 10s 208us/step - loss: 0.0166 - acc: 0.9945 - val_loss: 0.0972 - val_acc: 0.9812\n",
      "Epoch 23/50\n",
      "48000/48000 [==============================] - 10s 198us/step - loss: 0.0181 - acc: 0.9943 - val_loss: 0.0968 - val_acc: 0.9810\n",
      "Epoch 24/50\n",
      "48000/48000 [==============================] - 9s 180us/step - loss: 0.0156 - acc: 0.9950 - val_loss: 0.0877 - val_acc: 0.9811\n",
      "Epoch 25/50\n",
      "48000/48000 [==============================] - 9s 193us/step - loss: 0.0125 - acc: 0.9959 - val_loss: 0.1021 - val_acc: 0.9802\n",
      "Epoch 26/50\n",
      "48000/48000 [==============================] - 9s 188us/step - loss: 0.0145 - acc: 0.9953 - val_loss: 0.1043 - val_acc: 0.9792\n",
      "Epoch 27/50\n",
      "48000/48000 [==============================] - 9s 182us/step - loss: 0.0144 - acc: 0.9954 - val_loss: 0.0903 - val_acc: 0.9831\n",
      "Epoch 28/50\n",
      "48000/48000 [==============================] - 9s 187us/step - loss: 0.0121 - acc: 0.9964 - val_loss: 0.0978 - val_acc: 0.9808\n",
      "Epoch 29/50\n",
      "48000/48000 [==============================] - 9s 186us/step - loss: 0.0162 - acc: 0.9951 - val_loss: 0.0914 - val_acc: 0.9804\n",
      "Epoch 30/50\n",
      "48000/48000 [==============================] - 9s 190us/step - loss: 0.0105 - acc: 0.9965 - val_loss: 0.1062 - val_acc: 0.9792\n",
      "Epoch 31/50\n",
      "48000/48000 [==============================] - 9s 185us/step - loss: 0.0127 - acc: 0.9960 - val_loss: 0.1027 - val_acc: 0.9807\n",
      "Epoch 32/50\n",
      "48000/48000 [==============================] - 9s 195us/step - loss: 0.0109 - acc: 0.9967 - val_loss: 0.0973 - val_acc: 0.9805\n",
      "Epoch 33/50\n",
      "48000/48000 [==============================] - 9s 187us/step - loss: 0.0165 - acc: 0.9951 - val_loss: 0.0889 - val_acc: 0.9820\n",
      "Epoch 34/50\n",
      "48000/48000 [==============================] - 10s 200us/step - loss: 0.0127 - acc: 0.9960 - val_loss: 0.0922 - val_acc: 0.9821\n",
      "Epoch 35/50\n",
      "48000/48000 [==============================] - 9s 181us/step - loss: 0.0096 - acc: 0.9968 - val_loss: 0.0968 - val_acc: 0.9807\n",
      "Epoch 36/50\n",
      "48000/48000 [==============================] - 9s 185us/step - loss: 0.0107 - acc: 0.9967 - val_loss: 0.0923 - val_acc: 0.9817\n",
      "Epoch 37/50\n",
      "48000/48000 [==============================] - 9s 181us/step - loss: 0.0099 - acc: 0.9966 - val_loss: 0.0998 - val_acc: 0.9818\n",
      "Epoch 38/50\n",
      "48000/48000 [==============================] - 9s 188us/step - loss: 0.0135 - acc: 0.9961 - val_loss: 0.0964 - val_acc: 0.9806\n",
      "Epoch 39/50\n",
      "48000/48000 [==============================] - 9s 185us/step - loss: 0.0123 - acc: 0.9964 - val_loss: 0.1028 - val_acc: 0.9809\n",
      "Epoch 40/50\n",
      "48000/48000 [==============================] - 9s 188us/step - loss: 0.0098 - acc: 0.9971 - val_loss: 0.0984 - val_acc: 0.9814\n",
      "Epoch 41/50\n",
      "48000/48000 [==============================] - 10s 199us/step - loss: 0.0114 - acc: 0.9965 - val_loss: 0.0949 - val_acc: 0.9820\n",
      "Epoch 42/50\n",
      "48000/48000 [==============================] - 9s 180us/step - loss: 0.0092 - acc: 0.9971 - val_loss: 0.0965 - val_acc: 0.9818\n",
      "Epoch 43/50\n",
      "48000/48000 [==============================] - 9s 189us/step - loss: 0.0084 - acc: 0.9973 - val_loss: 0.1027 - val_acc: 0.9820\n",
      "Epoch 44/50\n",
      "48000/48000 [==============================] - 9s 181us/step - loss: 0.0103 - acc: 0.9968 - val_loss: 0.1005 - val_acc: 0.9812\n",
      "Epoch 45/50\n",
      "48000/48000 [==============================] - 9s 190us/step - loss: 0.0098 - acc: 0.9967 - val_loss: 0.1084 - val_acc: 0.9810\n",
      "Epoch 46/50\n",
      "48000/48000 [==============================] - 9s 184us/step - loss: 0.0116 - acc: 0.9963 - val_loss: 0.1021 - val_acc: 0.9815\n",
      "Epoch 47/50\n",
      "48000/48000 [==============================] - 9s 185us/step - loss: 0.0093 - acc: 0.9967 - val_loss: 0.1087 - val_acc: 0.9818\n",
      "Epoch 48/50\n",
      "48000/48000 [==============================] - 9s 181us/step - loss: 0.0083 - acc: 0.9974 - val_loss: 0.1005 - val_acc: 0.9817\n",
      "Epoch 49/50\n",
      "48000/48000 [==============================] - 9s 178us/step - loss: 0.0104 - acc: 0.9969 - val_loss: 0.0975 - val_acc: 0.9816\n",
      "Epoch 50/50\n",
      "48000/48000 [==============================] - 9s 188us/step - loss: 0.0071 - acc: 0.9975 - val_loss: 0.1066 - val_acc: 0.9808\n"
     ]
    },
    {
     "data": {
      "text/plain": [
       "<tensorflow.python.keras.callbacks.History at 0x31acfeb8>"
      ]
     },
     "execution_count": 93,
     "metadata": {},
     "output_type": "execute_result"
    }
   ],
   "source": [
    "model.fit(train_images,train_out,validation_split=0.2,batch_size = 128, epochs=50)"
   ]
  },
  {
   "cell_type": "code",
   "execution_count": 94,
   "metadata": {},
   "outputs": [
    {
     "name": "stdout",
     "output_type": "stream",
     "text": [
      "10000/10000 [==============================] - 1s 105us/step\n"
     ]
    },
    {
     "data": {
      "text/plain": [
       "[0.09865030846275635, 0.9835]"
      ]
     },
     "execution_count": 94,
     "metadata": {},
     "output_type": "execute_result"
    }
   ],
   "source": [
    "model.evaluate(test_images,test_out)"
   ]
  },
  {
   "cell_type": "code",
   "execution_count": null,
   "metadata": {},
   "outputs": [],
   "source": []
  }
 ],
 "metadata": {
  "kernelspec": {
   "display_name": "Python 3",
   "language": "python",
   "name": "python3"
  },
  "language_info": {
   "codemirror_mode": {
    "name": "ipython",
    "version": 3
   },
   "file_extension": ".py",
   "mimetype": "text/x-python",
   "name": "python",
   "nbconvert_exporter": "python",
   "pygments_lexer": "ipython3",
   "version": "3.6.8"
  }
 },
 "nbformat": 4,
 "nbformat_minor": 2
}
